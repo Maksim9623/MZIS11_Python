{
  "nbformat": 4,
  "nbformat_minor": 0,
  "metadata": {
    "colab": {
      "provenance": [],
      "authorship_tag": "ABX9TyNuuaaZKG4aD+KExWjJYQUw",
      "include_colab_link": true
    },
    "kernelspec": {
      "name": "python3",
      "display_name": "Python 3"
    },
    "language_info": {
      "name": "python"
    }
  },
  "cells": [
    {
      "cell_type": "markdown",
      "metadata": {
        "id": "view-in-github",
        "colab_type": "text"
      },
      "source": [
        "<a href=\"https://colab.research.google.com/github/Maksim9623/MZIS11_Python/blob/main/%D0%9A%D0%A0_Python.ipynb\" target=\"_parent\"><img src=\"https://colab.research.google.com/assets/colab-badge.svg\" alt=\"Open In Colab\"/></a>"
      ]
    },
    {
      "cell_type": "code",
      "execution_count": 3,
      "metadata": {
        "colab": {
          "base_uri": "https://localhost:8080/"
        },
        "id": "Esa9GfN9us-V",
        "outputId": "634eb16e-17d4-4607-a44b-1ac4eb2810dc"
      },
      "outputs": [
        {
          "output_type": "stream",
          "name": "stdout",
          "text": [
            "Ваше имя? Максим\n",
            "Какой Ваш любимый предмет в школе? Информатика\n",
            "В каком классе Вы учитесь? 10\n",
            "\n",
            "Ваше имя: Максим\n",
            "Ваш любимый предмет в школе: Информатика\n",
            "Вы учитесь в классе номер: 10\n"
          ]
        }
      ],
      "source": [
        "name = str(input(\"Ваше имя? \"))\n",
        "item = str(input(\"Какой Ваш любимый предмет в школе? \"))\n",
        "number = int(input(\"В каком классе Вы учитесь? \"))\n",
        "\n",
        "print()\n",
        "print(f\"Ваше имя: {name}\")\n",
        "print(f\"Ваш любимый предмет в школе: {item}\")\n",
        "print(f\"Вы учитесь в классе номер: {number}\")\n"
      ]
    },
    {
      "cell_type": "markdown",
      "source": [
        "Задание 2"
      ],
      "metadata": {
        "id": "4l_LRH4ixzIa"
      }
    },
    {
      "cell_type": "code",
      "source": [
        "import math\n",
        "\n",
        "x = int(input(\"Переменная X - \"))\n",
        "t = int(input(\"Переменная t - \"))\n",
        "\n",
        "num = 10 * (t**3 + math.cos(x)) + math.sin(x)\n",
        "den = 12 * math.sin(x)\n",
        "\n",
        "z = round(num / den, 2)\n",
        "print()\n",
        "print(f\"Резельтат вычесления z: {z}\")\n"
      ],
      "metadata": {
        "colab": {
          "base_uri": "https://localhost:8080/"
        },
        "id": "_c_op9N0wuMj",
        "outputId": "4d4fa6c0-fc36-44a3-e049-572f032cf3c6"
      },
      "execution_count": 7,
      "outputs": [
        {
          "output_type": "stream",
          "name": "stdout",
          "text": [
            "Переменная X - 12\n",
            "Переменная t - 12\n",
            "\n",
            "Резельтат вычесления z: -2684.93\n"
          ]
        }
      ]
    },
    {
      "cell_type": "markdown",
      "source": [
        "Задание 3"
      ],
      "metadata": {
        "id": "9w4NJfHqyjyK"
      }
    },
    {
      "cell_type": "code",
      "source": [
        "a = float(input(\"Введите первое число: \"))\n",
        "b = float(input(\"Введите второе число: \"))\n",
        "c = float(input(\"Введите третье число: \"))\n",
        "\n",
        "if a >= b and a >= c:\n",
        "  max_number = a\n",
        "elif b >= a and b >= c:\n",
        "  max_number = b\n",
        "else:\n",
        "  max_number = c\n",
        "\n",
        "sin_value = math.sin(max_number)\n",
        "print()\n",
        "print(f\"Синус максимального числа {max_number} равен: {sin_value}\")\n"
      ],
      "metadata": {
        "colab": {
          "base_uri": "https://localhost:8080/"
        },
        "id": "PL8relLTylkZ",
        "outputId": "024bd2bc-c35d-4ad8-db23-2346fa5aaf36"
      },
      "execution_count": 11,
      "outputs": [
        {
          "output_type": "stream",
          "name": "stdout",
          "text": [
            "Введите первое число: 11\n",
            "Введите второе число: 25\n",
            "Введите третье число: 13\n",
            "\n",
            "Синус максимального числа 25.0 равен: -0.13235175009777303\n"
          ]
        }
      ]
    },
    {
      "cell_type": "markdown",
      "source": [
        "Задание 4.1"
      ],
      "metadata": {
        "id": "3W3ilStp0Fn2"
      }
    },
    {
      "cell_type": "code",
      "source": [
        "a = int(input(\"Введите число а (от 0 до 50): \"))\n",
        "\n",
        "if 0 <= a <= 50:\n",
        "  sum_squares = 0\n",
        "  for i in range(a, 51):\n",
        "    sum_squares += i**2\n",
        "  print(f\"Сумма квадратов чисел от {a} до 50: {sum_squares}\")\n",
        "else:\n",
        "  print(\"Ошибка: а должно быть от 0 до 50!\")\n"
      ],
      "metadata": {
        "colab": {
          "base_uri": "https://localhost:8080/"
        },
        "id": "Mt-obVBM0IUl",
        "outputId": "66cb3156-37ae-4c0c-ff6f-29128eba140a"
      },
      "execution_count": 14,
      "outputs": [
        {
          "output_type": "stream",
          "name": "stdout",
          "text": [
            "Введите число а (от 0 до 50): 25\n",
            "Сумма квадратов чисел от 25 до 50: 38025\n"
          ]
        }
      ]
    },
    {
      "cell_type": "markdown",
      "source": [
        "Задание 4.2"
      ],
      "metadata": {
        "id": "7Bp140p80wPA"
      }
    },
    {
      "cell_type": "code",
      "source": [
        "N = int(input(\"Введите целое число N: \"))\n",
        "\n",
        "if N > 1:\n",
        "  K = 0\n",
        "  while True:\n",
        "    K += 1\n",
        "    if 5 * K > N:\n",
        "      break\n",
        "  print(f\"Наименьшее К, при котором 5К > {N}: {K}\")\n",
        "else:\n",
        "  print(\"Ошибка: N должно быть больше 1!\")\n"
      ],
      "metadata": {
        "colab": {
          "base_uri": "https://localhost:8080/"
        },
        "id": "PZi64pYI0ywW",
        "outputId": "9de54b8f-dfed-48f0-8cbb-b790f1070295"
      },
      "execution_count": 20,
      "outputs": [
        {
          "output_type": "stream",
          "name": "stdout",
          "text": [
            "Введите целое число N: 55\n",
            "Наименьшее К, при котором 5К > 55: 12\n"
          ]
        }
      ]
    }
  ]
}